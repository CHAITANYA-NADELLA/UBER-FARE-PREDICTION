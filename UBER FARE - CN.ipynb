{
 "cells": [
  {
   "cell_type": "markdown",
   "id": "eba92b3d-ab1a-4c1d-9b8d-c4cde9d42b5a",
   "metadata": {},
   "source": [
    "## Step 1: Analysing the Data"
   ]
  },
  {
   "cell_type": "markdown",
   "id": "5f76e18e-0fbf-4084-acac-9c28083d2ee6",
   "metadata": {},
   "source": [
    "#### Importing the Neccesary Libraries"
   ]
  },
  {
   "cell_type": "code",
   "execution_count": 170,
   "id": "386adc94-c3d0-46ec-b418-f9017aa2149b",
   "metadata": {
    "tags": []
   },
   "outputs": [],
   "source": [
    "import numpy as np,pandas as pd\n",
    "import matplotlib.pyplot as plt,seaborn as sns\n",
    "\n",
    "import warnings\n",
    "warnings.filterwarnings('ignore')"
   ]
  },
  {
   "cell_type": "markdown",
   "id": "244ff965-d07f-4566-944a-5c037b586ba5",
   "metadata": {},
   "source": [
    "## Loading the Data"
   ]
  },
  {
   "cell_type": "code",
   "execution_count": 172,
   "id": "91baf13c-b6cc-4d4c-89b2-d3a5d096d8d6",
   "metadata": {
    "tags": []
   },
   "outputs": [
    {
     "data": {
      "text/html": [
       "<div>\n",
       "<style scoped>\n",
       "    .dataframe tbody tr th:only-of-type {\n",
       "        vertical-align: middle;\n",
       "    }\n",
       "\n",
       "    .dataframe tbody tr th {\n",
       "        vertical-align: top;\n",
       "    }\n",
       "\n",
       "    .dataframe thead th {\n",
       "        text-align: right;\n",
       "    }\n",
       "</style>\n",
       "<table border=\"1\" class=\"dataframe\">\n",
       "  <thead>\n",
       "    <tr style=\"text-align: right;\">\n",
       "      <th></th>\n",
       "      <th>Unnamed: 0</th>\n",
       "      <th>key</th>\n",
       "      <th>fare_amount</th>\n",
       "      <th>pickup_datetime</th>\n",
       "      <th>pickup_longitude</th>\n",
       "      <th>pickup_latitude</th>\n",
       "      <th>dropoff_longitude</th>\n",
       "      <th>dropoff_latitude</th>\n",
       "      <th>passenger_count</th>\n",
       "    </tr>\n",
       "  </thead>\n",
       "  <tbody>\n",
       "    <tr>\n",
       "      <th>0</th>\n",
       "      <td>24238194</td>\n",
       "      <td>2015-05-07 19:52:06.0000003</td>\n",
       "      <td>7.5</td>\n",
       "      <td>2015-05-07 19:52:06 UTC</td>\n",
       "      <td>-73.999817</td>\n",
       "      <td>40.738354</td>\n",
       "      <td>-73.999512</td>\n",
       "      <td>40.723217</td>\n",
       "      <td>1</td>\n",
       "    </tr>\n",
       "    <tr>\n",
       "      <th>1</th>\n",
       "      <td>27835199</td>\n",
       "      <td>2009-07-17 20:04:56.0000002</td>\n",
       "      <td>7.7</td>\n",
       "      <td>2009-07-17 20:04:56 UTC</td>\n",
       "      <td>-73.994355</td>\n",
       "      <td>40.728225</td>\n",
       "      <td>-73.994710</td>\n",
       "      <td>40.750325</td>\n",
       "      <td>1</td>\n",
       "    </tr>\n",
       "    <tr>\n",
       "      <th>2</th>\n",
       "      <td>44984355</td>\n",
       "      <td>2009-08-24 21:45:00.00000061</td>\n",
       "      <td>12.9</td>\n",
       "      <td>2009-08-24 21:45:00 UTC</td>\n",
       "      <td>-74.005043</td>\n",
       "      <td>40.740770</td>\n",
       "      <td>-73.962565</td>\n",
       "      <td>40.772647</td>\n",
       "      <td>1</td>\n",
       "    </tr>\n",
       "    <tr>\n",
       "      <th>3</th>\n",
       "      <td>25894730</td>\n",
       "      <td>2009-06-26 08:22:21.0000001</td>\n",
       "      <td>5.3</td>\n",
       "      <td>2009-06-26 08:22:21 UTC</td>\n",
       "      <td>-73.976124</td>\n",
       "      <td>40.790844</td>\n",
       "      <td>-73.965316</td>\n",
       "      <td>40.803349</td>\n",
       "      <td>3</td>\n",
       "    </tr>\n",
       "    <tr>\n",
       "      <th>4</th>\n",
       "      <td>17610152</td>\n",
       "      <td>2014-08-28 17:47:00.000000188</td>\n",
       "      <td>16.0</td>\n",
       "      <td>2014-08-28 17:47:00 UTC</td>\n",
       "      <td>-73.925023</td>\n",
       "      <td>40.744085</td>\n",
       "      <td>-73.973082</td>\n",
       "      <td>40.761247</td>\n",
       "      <td>5</td>\n",
       "    </tr>\n",
       "  </tbody>\n",
       "</table>\n",
       "</div>"
      ],
      "text/plain": [
       "   Unnamed: 0                            key  fare_amount  \\\n",
       "0    24238194    2015-05-07 19:52:06.0000003          7.5   \n",
       "1    27835199    2009-07-17 20:04:56.0000002          7.7   \n",
       "2    44984355   2009-08-24 21:45:00.00000061         12.9   \n",
       "3    25894730    2009-06-26 08:22:21.0000001          5.3   \n",
       "4    17610152  2014-08-28 17:47:00.000000188         16.0   \n",
       "\n",
       "           pickup_datetime  pickup_longitude  pickup_latitude  \\\n",
       "0  2015-05-07 19:52:06 UTC        -73.999817        40.738354   \n",
       "1  2009-07-17 20:04:56 UTC        -73.994355        40.728225   \n",
       "2  2009-08-24 21:45:00 UTC        -74.005043        40.740770   \n",
       "3  2009-06-26 08:22:21 UTC        -73.976124        40.790844   \n",
       "4  2014-08-28 17:47:00 UTC        -73.925023        40.744085   \n",
       "\n",
       "   dropoff_longitude  dropoff_latitude  passenger_count  \n",
       "0         -73.999512         40.723217                1  \n",
       "1         -73.994710         40.750325                1  \n",
       "2         -73.962565         40.772647                1  \n",
       "3         -73.965316         40.803349                3  \n",
       "4         -73.973082         40.761247                5  "
      ]
     },
     "execution_count": 172,
     "metadata": {},
     "output_type": "execute_result"
    }
   ],
   "source": [
    "df = pd.read_csv('uber.csv')\n",
    "df.head()"
   ]
  },
  {
   "cell_type": "markdown",
   "id": "45473ba4-b109-44b5-b50d-20c7fabf3c9d",
   "metadata": {},
   "source": [
    "#### Shape of the dataset"
   ]
  },
  {
   "cell_type": "code",
   "execution_count": 174,
   "id": "3f22e30a-078a-4f6e-a8b6-638ebc6adc3b",
   "metadata": {
    "tags": []
   },
   "outputs": [
    {
     "name": "stdout",
     "output_type": "stream",
     "text": [
      "(200000, 9)\n"
     ]
    }
   ],
   "source": [
    "shape_of_data = df.shape\n",
    "print(shape_of_data)"
   ]
  },
  {
   "cell_type": "code",
   "execution_count": 175,
   "id": "e39cc6ca-9e47-4e85-b85e-9d5d1e307490",
   "metadata": {
    "tags": []
   },
   "outputs": [
    {
     "name": "stdout",
     "output_type": "stream",
     "text": [
      "1800000\n"
     ]
    }
   ],
   "source": [
    "size_of_data = df.size\n",
    "print(size_of_data)"
   ]
  },
  {
   "cell_type": "code",
   "execution_count": 176,
   "id": "b1c23aa6-68f8-4beb-b688-e862054de841",
   "metadata": {
    "tags": []
   },
   "outputs": [
    {
     "name": "stdout",
     "output_type": "stream",
     "text": [
      "Index(['Unnamed: 0', 'key', 'fare_amount', 'pickup_datetime',\n",
      "       'pickup_longitude', 'pickup_latitude', 'dropoff_longitude',\n",
      "       'dropoff_latitude', 'passenger_count'],\n",
      "      dtype='object')\n"
     ]
    }
   ],
   "source": [
    "columns_of_data_set = df.columns\n",
    "print(columns_of_data_set)"
   ]
  },
  {
   "cell_type": "markdown",
   "id": "d4ca0790-3f4b-4294-8c87-6d6a89183f40",
   "metadata": {},
   "source": [
    "## Step 2: Inspecting the dataset"
   ]
  },
  {
   "cell_type": "code",
   "execution_count": 178,
   "id": "9602348a-0ceb-4b9d-a87b-2b98ef39fd4a",
   "metadata": {
    "tags": []
   },
   "outputs": [
    {
     "name": "stdout",
     "output_type": "stream",
     "text": [
      "<class 'pandas.core.frame.DataFrame'>\n",
      "RangeIndex: 200000 entries, 0 to 199999\n",
      "Data columns (total 9 columns):\n",
      " #   Column             Non-Null Count   Dtype  \n",
      "---  ------             --------------   -----  \n",
      " 0   Unnamed: 0         200000 non-null  int64  \n",
      " 1   key                200000 non-null  object \n",
      " 2   fare_amount        200000 non-null  float64\n",
      " 3   pickup_datetime    200000 non-null  object \n",
      " 4   pickup_longitude   200000 non-null  float64\n",
      " 5   pickup_latitude    200000 non-null  float64\n",
      " 6   dropoff_longitude  199999 non-null  float64\n",
      " 7   dropoff_latitude   199999 non-null  float64\n",
      " 8   passenger_count    200000 non-null  int64  \n",
      "dtypes: float64(5), int64(2), object(2)\n",
      "memory usage: 13.7+ MB\n"
     ]
    }
   ],
   "source": [
    "df.info()"
   ]
  },
  {
   "cell_type": "markdown",
   "id": "16f67254-8c47-4067-ac2e-d23cc635e365",
   "metadata": {},
   "source": [
    "### Checking the Missing Values"
   ]
  },
  {
   "cell_type": "code",
   "execution_count": 180,
   "id": "2ffe2459-9736-4f9b-b560-c776760ff300",
   "metadata": {
    "tags": []
   },
   "outputs": [
    {
     "data": {
      "text/plain": [
       "Unnamed: 0           0.0000\n",
       "key                  0.0000\n",
       "fare_amount          0.0000\n",
       "pickup_datetime      0.0000\n",
       "pickup_longitude     0.0000\n",
       "pickup_latitude      0.0000\n",
       "dropoff_longitude    0.0005\n",
       "dropoff_latitude     0.0005\n",
       "passenger_count      0.0000\n",
       "dtype: float64"
      ]
     },
     "execution_count": 180,
     "metadata": {},
     "output_type": "execute_result"
    }
   ],
   "source": [
    "100*(df.isnull().sum()/len(df))"
   ]
  },
  {
   "cell_type": "markdown",
   "id": "10b061b2-d63d-48fb-a48e-a4c378f0c68e",
   "metadata": {},
   "source": [
    "As it is less than 2% of missing values we will drop those rows"
   ]
  },
  {
   "cell_type": "code",
   "execution_count": 182,
   "id": "d1cea076-a21e-4f49-8ec2-44027e16c607",
   "metadata": {
    "tags": []
   },
   "outputs": [],
   "source": [
    "df.dropna(inplace=True)"
   ]
  },
  {
   "cell_type": "code",
   "execution_count": 183,
   "id": "938f296e-936d-4644-972c-cbe829498e07",
   "metadata": {
    "tags": []
   },
   "outputs": [
    {
     "data": {
      "text/plain": [
       "Unnamed: 0           0\n",
       "key                  0\n",
       "fare_amount          0\n",
       "pickup_datetime      0\n",
       "pickup_longitude     0\n",
       "pickup_latitude      0\n",
       "dropoff_longitude    0\n",
       "dropoff_latitude     0\n",
       "passenger_count      0\n",
       "dtype: int64"
      ]
     },
     "execution_count": 183,
     "metadata": {},
     "output_type": "execute_result"
    }
   ],
   "source": [
    "df.isnull().sum()"
   ]
  },
  {
   "cell_type": "markdown",
   "id": "65dcffd2-6d66-43c1-a01a-452b5f1c6504",
   "metadata": {},
   "source": [
    "### Rechecking the Missing values"
   ]
  },
  {
   "cell_type": "code",
   "execution_count": 185,
   "id": "120c8406-1e8c-4baf-a437-a256c6f98bde",
   "metadata": {
    "tags": []
   },
   "outputs": [
    {
     "data": {
      "text/plain": [
       "Unnamed: 0           0.0\n",
       "key                  0.0\n",
       "fare_amount          0.0\n",
       "pickup_datetime      0.0\n",
       "pickup_longitude     0.0\n",
       "pickup_latitude      0.0\n",
       "dropoff_longitude    0.0\n",
       "dropoff_latitude     0.0\n",
       "passenger_count      0.0\n",
       "dtype: float64"
      ]
     },
     "execution_count": 185,
     "metadata": {},
     "output_type": "execute_result"
    }
   ],
   "source": [
    "100*(df.isnull().sum()/len(df))"
   ]
  },
  {
   "cell_type": "markdown",
   "id": "4d848879-fa12-497b-8cd5-2d7d5f7f6ec4",
   "metadata": {
    "tags": []
   },
   "source": [
    "### Step 3: Data Preprocessing"
   ]
  },
  {
   "cell_type": "code",
   "execution_count": 187,
   "id": "945ce6b3-3fd3-47b2-8a8f-bb535287df4a",
   "metadata": {
    "tags": []
   },
   "outputs": [
    {
     "data": {
      "text/plain": [
       "Index(['Unnamed: 0', 'key', 'fare_amount', 'pickup_datetime',\n",
       "       'pickup_longitude', 'pickup_latitude', 'dropoff_longitude',\n",
       "       'dropoff_latitude', 'passenger_count'],\n",
       "      dtype='object')"
      ]
     },
     "execution_count": 187,
     "metadata": {},
     "output_type": "execute_result"
    }
   ],
   "source": [
    "df.columns"
   ]
  },
  {
   "cell_type": "code",
   "execution_count": 188,
   "id": "34e0e2c8-264f-43d3-b333-7faf0b09b5f3",
   "metadata": {
    "tags": []
   },
   "outputs": [],
   "source": [
    "df['pickup_datetime'] = pd.to_datetime(df['pickup_datetime'])"
   ]
  },
  {
   "cell_type": "code",
   "execution_count": 189,
   "id": "956cdc2b-c824-4c2d-be53-485ecc6c21a8",
   "metadata": {
    "tags": []
   },
   "outputs": [],
   "source": [
    "df['time'] = df['pickup_datetime'].dt.time"
   ]
  },
  {
   "cell_type": "code",
   "execution_count": 190,
   "id": "1ae25dda-c6a2-406a-91ef-3537efedb4f6",
   "metadata": {
    "tags": []
   },
   "outputs": [],
   "source": [
    "def categorize_time(time):\n",
    "    if time < pd.to_datetime('12:00:00').time():\n",
    "        return 'Morning'\n",
    "    elif time < pd.to_datetime('17:00:00').time():\n",
    "        return 'Afternoon'\n",
    "    else:\n",
    "        return 'Evening'\n",
    "    "
   ]
  },
  {
   "cell_type": "code",
   "execution_count": 191,
   "id": "2dce4188-8e2c-4940-bef7-024111577eb5",
   "metadata": {
    "tags": []
   },
   "outputs": [],
   "source": [
    "df['Categorize_time'] = df['time'].apply(categorize_time)"
   ]
  },
  {
   "cell_type": "code",
   "execution_count": 192,
   "id": "be6bd669-92b0-4612-858d-e25aafd5ed0f",
   "metadata": {
    "tags": []
   },
   "outputs": [],
   "source": [
    "def haversine_distance(lat1, lon1, lat2, lon2):\n",
    "    lat1, lon1, lat2, lon2 = map(np.radians, [lat1, lon1, lat2, lon2])\n",
    "    dlon = lon2 - lon1 \n",
    "    dlat = lat2 - lat1 \n",
    "    a = np.sin(dlat/2)**2 + np.cos(lat1) * np.cos(lat2) * np.sin(dlon/2)**2\n",
    "    c = 2 * np.arcsin(np.sqrt(a))\n",
    "    km = 6371 * c\n",
    "    return km"
   ]
  },
  {
   "cell_type": "code",
   "execution_count": 193,
   "id": "60fe0ec6-8004-4074-9de5-b7b70b4f8181",
   "metadata": {
    "tags": []
   },
   "outputs": [],
   "source": [
    "df['Distance_km'] = haversine_distance(df['pickup_latitude'],df['pickup_longitude'],\n",
    "                                      df['dropoff_latitude'],df['dropoff_longitude'])"
   ]
  },
  {
   "cell_type": "code",
   "execution_count": 194,
   "id": "97e7e1e0-718d-4d9c-a94b-f3710b2a6b1a",
   "metadata": {
    "tags": []
   },
   "outputs": [],
   "source": [
    "def categorize_distance(distance_km, short_threshold, medium_threshold):\n",
    "    \"\"\"\n",
    "    Categorize the distance into short, medium, and long based on provided thresholds\n",
    "    \"\"\"\n",
    "    if distance_km <= short_threshold:\n",
    "        return 'Short'\n",
    "    elif distance_km <= medium_threshold:\n",
    "        return 'Medium'\n",
    "    else:\n",
    "        return 'Long'\n"
   ]
  },
  {
   "cell_type": "code",
   "execution_count": 195,
   "id": "8fd6e0a4-96fe-4d50-b0d2-db6060546444",
   "metadata": {
    "tags": []
   },
   "outputs": [],
   "source": [
    "short_threshold = 5  \n",
    "medium_threshold = 20\n",
    "df['Distance_category'] = df['Distance_km'].apply(\n",
    "lambda x: categorize_distance(x, short_threshold, medium_threshold))"
   ]
  },
  {
   "cell_type": "code",
   "execution_count": 196,
   "id": "f98ad533-aa61-48de-89b2-898f0dae656b",
   "metadata": {
    "tags": []
   },
   "outputs": [],
   "source": [
    "varlist = ['key', 'pickup_longitude', 'pickup_latitude', 'dropoff_longitude',\n",
    "       'dropoff_latitude', 'passenger_count', 'time','pickup_datetime']\n",
    "df=df.drop(varlist,axis=1)"
   ]
  },
  {
   "cell_type": "code",
   "execution_count": 197,
   "id": "b03d4188-7f88-4a23-862a-41d63c000202",
   "metadata": {
    "tags": []
   },
   "outputs": [
    {
     "data": {
      "text/plain": [
       "Index(['Unnamed: 0', 'fare_amount', 'Categorize_time', 'Distance_km',\n",
       "       'Distance_category'],\n",
       "      dtype='object')"
      ]
     },
     "execution_count": 197,
     "metadata": {},
     "output_type": "execute_result"
    }
   ],
   "source": [
    "df.columns"
   ]
  },
  {
   "cell_type": "code",
   "execution_count": 198,
   "id": "466865c3-75b8-414d-a4d1-ab921cb901b4",
   "metadata": {
    "tags": []
   },
   "outputs": [
    {
     "data": {
      "text/html": [
       "<div>\n",
       "<style scoped>\n",
       "    .dataframe tbody tr th:only-of-type {\n",
       "        vertical-align: middle;\n",
       "    }\n",
       "\n",
       "    .dataframe tbody tr th {\n",
       "        vertical-align: top;\n",
       "    }\n",
       "\n",
       "    .dataframe thead th {\n",
       "        text-align: right;\n",
       "    }\n",
       "</style>\n",
       "<table border=\"1\" class=\"dataframe\">\n",
       "  <thead>\n",
       "    <tr style=\"text-align: right;\">\n",
       "      <th></th>\n",
       "      <th>Unnamed: 0</th>\n",
       "      <th>fare_amount</th>\n",
       "      <th>Categorize_time</th>\n",
       "      <th>Distance_km</th>\n",
       "      <th>Distance_category</th>\n",
       "    </tr>\n",
       "  </thead>\n",
       "  <tbody>\n",
       "    <tr>\n",
       "      <th>0</th>\n",
       "      <td>24238194</td>\n",
       "      <td>7.5</td>\n",
       "      <td>Evening</td>\n",
       "      <td>1.683323</td>\n",
       "      <td>Short</td>\n",
       "    </tr>\n",
       "    <tr>\n",
       "      <th>1</th>\n",
       "      <td>27835199</td>\n",
       "      <td>7.7</td>\n",
       "      <td>Evening</td>\n",
       "      <td>2.457590</td>\n",
       "      <td>Short</td>\n",
       "    </tr>\n",
       "    <tr>\n",
       "      <th>2</th>\n",
       "      <td>44984355</td>\n",
       "      <td>12.9</td>\n",
       "      <td>Evening</td>\n",
       "      <td>5.036377</td>\n",
       "      <td>Medium</td>\n",
       "    </tr>\n",
       "    <tr>\n",
       "      <th>3</th>\n",
       "      <td>25894730</td>\n",
       "      <td>5.3</td>\n",
       "      <td>Morning</td>\n",
       "      <td>1.661683</td>\n",
       "      <td>Short</td>\n",
       "    </tr>\n",
       "    <tr>\n",
       "      <th>4</th>\n",
       "      <td>17610152</td>\n",
       "      <td>16.0</td>\n",
       "      <td>Evening</td>\n",
       "      <td>4.475450</td>\n",
       "      <td>Short</td>\n",
       "    </tr>\n",
       "  </tbody>\n",
       "</table>\n",
       "</div>"
      ],
      "text/plain": [
       "   Unnamed: 0  fare_amount Categorize_time  Distance_km Distance_category\n",
       "0    24238194          7.5         Evening     1.683323             Short\n",
       "1    27835199          7.7         Evening     2.457590             Short\n",
       "2    44984355         12.9         Evening     5.036377            Medium\n",
       "3    25894730          5.3         Morning     1.661683             Short\n",
       "4    17610152         16.0         Evening     4.475450             Short"
      ]
     },
     "execution_count": 198,
     "metadata": {},
     "output_type": "execute_result"
    }
   ],
   "source": [
    "df.head()"
   ]
  },
  {
   "cell_type": "code",
   "execution_count": 199,
   "id": "d787c894-61da-473f-91d5-be0248afd7b7",
   "metadata": {
    "tags": []
   },
   "outputs": [],
   "source": [
    "df=df.rename(columns={'Unnamed: 0':'ID'})"
   ]
  },
  {
   "cell_type": "code",
   "execution_count": 200,
   "id": "5d4642df-09ba-4425-975a-05812351502b",
   "metadata": {
    "tags": []
   },
   "outputs": [
    {
     "data": {
      "text/html": [
       "<div>\n",
       "<style scoped>\n",
       "    .dataframe tbody tr th:only-of-type {\n",
       "        vertical-align: middle;\n",
       "    }\n",
       "\n",
       "    .dataframe tbody tr th {\n",
       "        vertical-align: top;\n",
       "    }\n",
       "\n",
       "    .dataframe thead th {\n",
       "        text-align: right;\n",
       "    }\n",
       "</style>\n",
       "<table border=\"1\" class=\"dataframe\">\n",
       "  <thead>\n",
       "    <tr style=\"text-align: right;\">\n",
       "      <th></th>\n",
       "      <th>ID</th>\n",
       "      <th>fare_amount</th>\n",
       "      <th>Categorize_time</th>\n",
       "      <th>Distance_km</th>\n",
       "      <th>Distance_category</th>\n",
       "    </tr>\n",
       "  </thead>\n",
       "  <tbody>\n",
       "    <tr>\n",
       "      <th>0</th>\n",
       "      <td>24238194</td>\n",
       "      <td>7.5</td>\n",
       "      <td>Evening</td>\n",
       "      <td>1.683323</td>\n",
       "      <td>Short</td>\n",
       "    </tr>\n",
       "    <tr>\n",
       "      <th>1</th>\n",
       "      <td>27835199</td>\n",
       "      <td>7.7</td>\n",
       "      <td>Evening</td>\n",
       "      <td>2.457590</td>\n",
       "      <td>Short</td>\n",
       "    </tr>\n",
       "    <tr>\n",
       "      <th>2</th>\n",
       "      <td>44984355</td>\n",
       "      <td>12.9</td>\n",
       "      <td>Evening</td>\n",
       "      <td>5.036377</td>\n",
       "      <td>Medium</td>\n",
       "    </tr>\n",
       "    <tr>\n",
       "      <th>3</th>\n",
       "      <td>25894730</td>\n",
       "      <td>5.3</td>\n",
       "      <td>Morning</td>\n",
       "      <td>1.661683</td>\n",
       "      <td>Short</td>\n",
       "    </tr>\n",
       "    <tr>\n",
       "      <th>4</th>\n",
       "      <td>17610152</td>\n",
       "      <td>16.0</td>\n",
       "      <td>Evening</td>\n",
       "      <td>4.475450</td>\n",
       "      <td>Short</td>\n",
       "    </tr>\n",
       "  </tbody>\n",
       "</table>\n",
       "</div>"
      ],
      "text/plain": [
       "         ID  fare_amount Categorize_time  Distance_km Distance_category\n",
       "0  24238194          7.5         Evening     1.683323             Short\n",
       "1  27835199          7.7         Evening     2.457590             Short\n",
       "2  44984355         12.9         Evening     5.036377            Medium\n",
       "3  25894730          5.3         Morning     1.661683             Short\n",
       "4  17610152         16.0         Evening     4.475450             Short"
      ]
     },
     "execution_count": 200,
     "metadata": {},
     "output_type": "execute_result"
    }
   ],
   "source": [
    "df.head()"
   ]
  },
  {
   "cell_type": "markdown",
   "id": "7e4b0495-1fed-42af-8067-2b1ba1a862ce",
   "metadata": {},
   "source": [
    "## Step 4: EDA Analysis of data"
   ]
  },
  {
   "cell_type": "code",
   "execution_count": 202,
   "id": "bbd3b3f6-ccaf-4dd6-bc51-29a9217a19a4",
   "metadata": {
    "tags": []
   },
   "outputs": [
    {
     "data": {
      "text/plain": [
       "<Axes: xlabel='Distance_km', ylabel='fare_amount'>"
      ]
     },
     "execution_count": 202,
     "metadata": {},
     "output_type": "execute_result"
    },
    {
     "data": {
      "image/png": "[encoded data removed]",
      "text/plain": [
       "<Figure size 640x480 with 1 Axes>"
      ]
     },
     "metadata": {},
     "output_type": "display_data"
    }
   ],
   "source": [
    "sns.scatterplot(x='Distance_km',y='fare_amount',data=df)"
   ]
  },
  {
   "cell_type": "code",
   "execution_count": 203,
   "id": "69a9f1b5-36f1-4f3f-86e7-5afc37cab3f5",
   "metadata": {
    "tags": []
   },
   "outputs": [
    {
     "data": {
      "text/plain": [
       "<Axes: xlabel='Distance_category', ylabel='fare_amount'>"
      ]
     },
     "execution_count": 203,
     "metadata": {},
     "output_type": "execute_result"
    },
    {
     "data": {
      "image/png": "[encoded data removed]",
      "text/plain": [
       "<Figure size 640x480 with 1 Axes>"
      ]
     },
     "metadata": {},
     "output_type": "display_data"
    }
   ],
   "source": [
    "sns.barplot(x='Distance_category',y='fare_amount',data=df)"
   ]
  },
  {
   "cell_type": "code",
   "execution_count": 204,
   "id": "3ea1a084-dd47-4294-bc92-29a90a7fe7b6",
   "metadata": {
    "tags": []
   },
   "outputs": [
    {
     "data": {
      "text/plain": [
       "<Axes: xlabel='Categorize_time', ylabel='fare_amount'>"
      ]
     },
     "execution_count": 204,
     "metadata": {},
     "output_type": "execute_result"
    },
    {
     "data": {
      "image/png": "[encoded data removed]",
      "text/plain": [
       "<Figure size 640x480 with 1 Axes>"
      ]
     },
     "metadata": {},
     "output_type": "display_data"
    }
   ],
   "source": [
    "sns.barplot(x='Categorize_time',y='fare_amount',data=df)"
   ]
  },
  {
   "cell_type": "markdown",
   "id": "ee5e3ea4-20bc-425f-b7a5-33a2419d7697",
   "metadata": {},
   "source": [
    "### Step 5: Creating dummy variables"
   ]
  },
  {
   "cell_type": "code",
   "execution_count": 206,
   "id": "ff49bfcb-c469-4e8e-89fc-039463de789b",
   "metadata": {
    "tags": []
   },
   "outputs": [
    {
     "data": {
      "text/plain": [
       "(199999, 5)"
      ]
     },
     "execution_count": 206,
     "metadata": {},
     "output_type": "execute_result"
    }
   ],
   "source": [
    "df.shape"
   ]
  },
  {
   "cell_type": "code",
   "execution_count": 207,
   "id": "5da3a7ca-9f5f-4722-9e8e-f63ea3e496f8",
   "metadata": {
    "tags": []
   },
   "outputs": [
    {
     "data": {
      "text/html": [
       "<div>\n",
       "<style scoped>\n",
       "    .dataframe tbody tr th:only-of-type {\n",
       "        vertical-align: middle;\n",
       "    }\n",
       "\n",
       "    .dataframe tbody tr th {\n",
       "        vertical-align: top;\n",
       "    }\n",
       "\n",
       "    .dataframe thead th {\n",
       "        text-align: right;\n",
       "    }\n",
       "</style>\n",
       "<table border=\"1\" class=\"dataframe\">\n",
       "  <thead>\n",
       "    <tr style=\"text-align: right;\">\n",
       "      <th></th>\n",
       "      <th>Categorize_time_Evening</th>\n",
       "      <th>Categorize_time_Morning</th>\n",
       "      <th>Distance_category_Medium</th>\n",
       "      <th>Distance_category_Short</th>\n",
       "    </tr>\n",
       "  </thead>\n",
       "  <tbody>\n",
       "    <tr>\n",
       "      <th>0</th>\n",
       "      <td>1</td>\n",
       "      <td>0</td>\n",
       "      <td>0</td>\n",
       "      <td>1</td>\n",
       "    </tr>\n",
       "    <tr>\n",
       "      <th>1</th>\n",
       "      <td>1</td>\n",
       "      <td>0</td>\n",
       "      <td>0</td>\n",
       "      <td>1</td>\n",
       "    </tr>\n",
       "    <tr>\n",
       "      <th>2</th>\n",
       "      <td>1</td>\n",
       "      <td>0</td>\n",
       "      <td>1</td>\n",
       "      <td>0</td>\n",
       "    </tr>\n",
       "    <tr>\n",
       "      <th>3</th>\n",
       "      <td>0</td>\n",
       "      <td>1</td>\n",
       "      <td>0</td>\n",
       "      <td>1</td>\n",
       "    </tr>\n",
       "    <tr>\n",
       "      <th>4</th>\n",
       "      <td>1</td>\n",
       "      <td>0</td>\n",
       "      <td>0</td>\n",
       "      <td>1</td>\n",
       "    </tr>\n",
       "  </tbody>\n",
       "</table>\n",
       "</div>"
      ],
      "text/plain": [
       "   Categorize_time_Evening  Categorize_time_Morning  Distance_category_Medium  \\\n",
       "0                        1                        0                         0   \n",
       "1                        1                        0                         0   \n",
       "2                        1                        0                         1   \n",
       "3                        0                        1                         0   \n",
       "4                        1                        0                         0   \n",
       "\n",
       "   Distance_category_Short  \n",
       "0                        1  \n",
       "1                        1  \n",
       "2                        0  \n",
       "3                        1  \n",
       "4                        1  "
      ]
     },
     "execution_count": 207,
     "metadata": {},
     "output_type": "execute_result"
    }
   ],
   "source": [
    "dummy = pd.get_dummies(df[['Categorize_time','Distance_category']],drop_first=True).astype(int)\n",
    "dummy.head()"
   ]
  },
  {
   "cell_type": "code",
   "execution_count": 208,
   "id": "0096f9af-225f-4ed6-85c9-451d9a1d78d6",
   "metadata": {
    "tags": []
   },
   "outputs": [],
   "source": [
    "df=df.drop(['Categorize_time','Distance_category'],axis=1)"
   ]
  },
  {
   "cell_type": "code",
   "execution_count": 209,
   "id": "acc50c1d-ed2d-47c0-9819-8e3eebbb58f4",
   "metadata": {
    "tags": []
   },
   "outputs": [],
   "source": [
    "df= pd.concat([df,dummy],axis=1)"
   ]
  },
  {
   "cell_type": "code",
   "execution_count": 210,
   "id": "cf3a7be3-da3f-4d55-bd42-f0c32df1db4e",
   "metadata": {
    "tags": []
   },
   "outputs": [
    {
     "data": {
      "text/html": [
       "<div>\n",
       "<style scoped>\n",
       "    .dataframe tbody tr th:only-of-type {\n",
       "        vertical-align: middle;\n",
       "    }\n",
       "\n",
       "    .dataframe tbody tr th {\n",
       "        vertical-align: top;\n",
       "    }\n",
       "\n",
       "    .dataframe thead th {\n",
       "        text-align: right;\n",
       "    }\n",
       "</style>\n",
       "<table border=\"1\" class=\"dataframe\">\n",
       "  <thead>\n",
       "    <tr style=\"text-align: right;\">\n",
       "      <th></th>\n",
       "      <th>ID</th>\n",
       "      <th>fare_amount</th>\n",
       "      <th>Distance_km</th>\n",
       "      <th>Categorize_time_Evening</th>\n",
       "      <th>Categorize_time_Morning</th>\n",
       "      <th>Distance_category_Medium</th>\n",
       "      <th>Distance_category_Short</th>\n",
       "    </tr>\n",
       "  </thead>\n",
       "  <tbody>\n",
       "    <tr>\n",
       "      <th>0</th>\n",
       "      <td>24238194</td>\n",
       "      <td>7.5</td>\n",
       "      <td>1.683323</td>\n",
       "      <td>1</td>\n",
       "      <td>0</td>\n",
       "      <td>0</td>\n",
       "      <td>1</td>\n",
       "    </tr>\n",
       "    <tr>\n",
       "      <th>1</th>\n",
       "      <td>27835199</td>\n",
       "      <td>7.7</td>\n",
       "      <td>2.457590</td>\n",
       "      <td>1</td>\n",
       "      <td>0</td>\n",
       "      <td>0</td>\n",
       "      <td>1</td>\n",
       "    </tr>\n",
       "    <tr>\n",
       "      <th>2</th>\n",
       "      <td>44984355</td>\n",
       "      <td>12.9</td>\n",
       "      <td>5.036377</td>\n",
       "      <td>1</td>\n",
       "      <td>0</td>\n",
       "      <td>1</td>\n",
       "      <td>0</td>\n",
       "    </tr>\n",
       "    <tr>\n",
       "      <th>3</th>\n",
       "      <td>25894730</td>\n",
       "      <td>5.3</td>\n",
       "      <td>1.661683</td>\n",
       "      <td>0</td>\n",
       "      <td>1</td>\n",
       "      <td>0</td>\n",
       "      <td>1</td>\n",
       "    </tr>\n",
       "    <tr>\n",
       "      <th>4</th>\n",
       "      <td>17610152</td>\n",
       "      <td>16.0</td>\n",
       "      <td>4.475450</td>\n",
       "      <td>1</td>\n",
       "      <td>0</td>\n",
       "      <td>0</td>\n",
       "      <td>1</td>\n",
       "    </tr>\n",
       "  </tbody>\n",
       "</table>\n",
       "</div>"
      ],
      "text/plain": [
       "         ID  fare_amount  Distance_km  Categorize_time_Evening  \\\n",
       "0  24238194          7.5     1.683323                        1   \n",
       "1  27835199          7.7     2.457590                        1   \n",
       "2  44984355         12.9     5.036377                        1   \n",
       "3  25894730          5.3     1.661683                        0   \n",
       "4  17610152         16.0     4.475450                        1   \n",
       "\n",
       "   Categorize_time_Morning  Distance_category_Medium  Distance_category_Short  \n",
       "0                        0                         0                        1  \n",
       "1                        0                         0                        1  \n",
       "2                        0                         1                        0  \n",
       "3                        1                         0                        1  \n",
       "4                        0                         0                        1  "
      ]
     },
     "execution_count": 210,
     "metadata": {},
     "output_type": "execute_result"
    }
   ],
   "source": [
    "df.head()"
   ]
  },
  {
   "cell_type": "markdown",
   "id": "2b44f016-671a-49a9-820b-0c3279186864",
   "metadata": {},
   "source": [
    "## Step 6: Spliting the data into test and Train"
   ]
  },
  {
   "cell_type": "code",
   "execution_count": 212,
   "id": "76259d94-e238-41a0-80c2-34016b602fd3",
   "metadata": {
    "tags": []
   },
   "outputs": [],
   "source": [
    "from sklearn.model_selection import train_test_split"
   ]
  },
  {
   "cell_type": "code",
   "execution_count": 213,
   "id": "1e200f3a-31ae-4036-8187-032f517f19cc",
   "metadata": {
    "tags": []
   },
   "outputs": [],
   "source": [
    "X= df.drop(['ID','fare_amount'],axis=1)\n",
    "y= df['fare_amount']"
   ]
  },
  {
   "cell_type": "code",
   "execution_count": 214,
   "id": "9d0221db-7ff9-4566-a7cd-1af8f0f66817",
   "metadata": {
    "tags": []
   },
   "outputs": [],
   "source": [
    "X_train,X_test,y_train,y_test = train_test_split(X,y,test_size=0.2,random_state=100)"
   ]
  },
  {
   "cell_type": "markdown",
   "id": "67ee8192-5225-4b90-a5d3-30fa19af35b4",
   "metadata": {},
   "source": [
    "## Step 7: Data Scalling"
   ]
  },
  {
   "cell_type": "code",
   "execution_count": 216,
   "id": "dcfcce37-c4b0-46ab-8d97-b02ed541dedd",
   "metadata": {
    "tags": []
   },
   "outputs": [],
   "source": [
    "from sklearn.preprocessing import StandardScaler "
   ]
  },
  {
   "cell_type": "code",
   "execution_count": 217,
   "id": "f315bd6c-903b-437c-a30f-62a83cf8e580",
   "metadata": {
    "tags": []
   },
   "outputs": [],
   "source": [
    "scaler = StandardScaler()"
   ]
  },
  {
   "cell_type": "code",
   "execution_count": 218,
   "id": "117bc25a-ae42-48f9-bde5-d004695016d2",
   "metadata": {
    "tags": []
   },
   "outputs": [],
   "source": [
    "X_train_reshaped = X_train['Distance_km'].values.reshape(-1,1)"
   ]
  },
  {
   "cell_type": "code",
   "execution_count": 219,
   "id": "1894ff48-4ee2-4751-8040-67b12d5527eb",
   "metadata": {
    "tags": []
   },
   "outputs": [],
   "source": [
    "X_train_reshaped= scaler.fit_transform(X_train_reshaped)"
   ]
  },
  {
   "cell_type": "code",
   "execution_count": 220,
   "id": "b589552e-66ad-496f-a524-cc8be038fc31",
   "metadata": {
    "tags": []
   },
   "outputs": [],
   "source": [
    "X_train_reshaped_series = pd.Series(X_train_reshaped.flatten())"
   ]
  },
  {
   "cell_type": "code",
   "execution_count": 221,
   "id": "b1e82cab-09de-4057-9f03-209fdad51386",
   "metadata": {
    "tags": []
   },
   "outputs": [],
   "source": [
    "X_train['Distance_km']=X_train_reshaped_series"
   ]
  },
  {
   "cell_type": "code",
   "execution_count": 222,
   "id": "c5cfe0af-e56b-4b73-88ad-187e4b0cece2",
   "metadata": {
    "tags": []
   },
   "outputs": [
    {
     "data": {
      "text/html": [
       "<div>\n",
       "<style scoped>\n",
       "    .dataframe tbody tr th:only-of-type {\n",
       "        vertical-align: middle;\n",
       "    }\n",
       "\n",
       "    .dataframe tbody tr th {\n",
       "        vertical-align: top;\n",
       "    }\n",
       "\n",
       "    .dataframe thead th {\n",
       "        text-align: right;\n",
       "    }\n",
       "</style>\n",
       "<table border=\"1\" class=\"dataframe\">\n",
       "  <thead>\n",
       "    <tr style=\"text-align: right;\">\n",
       "      <th></th>\n",
       "      <th>Distance_km</th>\n",
       "      <th>Categorize_time_Evening</th>\n",
       "      <th>Categorize_time_Morning</th>\n",
       "      <th>Distance_category_Medium</th>\n",
       "      <th>Distance_category_Short</th>\n",
       "    </tr>\n",
       "  </thead>\n",
       "  <tbody>\n",
       "    <tr>\n",
       "      <th>140405</th>\n",
       "      <td>-0.051221</td>\n",
       "      <td>1</td>\n",
       "      <td>0</td>\n",
       "      <td>0</td>\n",
       "      <td>1</td>\n",
       "    </tr>\n",
       "    <tr>\n",
       "      <th>5790</th>\n",
       "      <td>-0.049270</td>\n",
       "      <td>0</td>\n",
       "      <td>1</td>\n",
       "      <td>0</td>\n",
       "      <td>1</td>\n",
       "    </tr>\n",
       "    <tr>\n",
       "      <th>159787</th>\n",
       "      <td>-0.030703</td>\n",
       "      <td>0</td>\n",
       "      <td>1</td>\n",
       "      <td>0</td>\n",
       "      <td>1</td>\n",
       "    </tr>\n",
       "    <tr>\n",
       "      <th>134400</th>\n",
       "      <td>-0.001862</td>\n",
       "      <td>1</td>\n",
       "      <td>0</td>\n",
       "      <td>1</td>\n",
       "      <td>0</td>\n",
       "    </tr>\n",
       "    <tr>\n",
       "      <th>127149</th>\n",
       "      <td>-0.043541</td>\n",
       "      <td>1</td>\n",
       "      <td>0</td>\n",
       "      <td>0</td>\n",
       "      <td>1</td>\n",
       "    </tr>\n",
       "  </tbody>\n",
       "</table>\n",
       "</div>"
      ],
      "text/plain": [
       "        Distance_km  Categorize_time_Evening  Categorize_time_Morning  \\\n",
       "140405    -0.051221                        1                        0   \n",
       "5790      -0.049270                        0                        1   \n",
       "159787    -0.030703                        0                        1   \n",
       "134400    -0.001862                        1                        0   \n",
       "127149    -0.043541                        1                        0   \n",
       "\n",
       "        Distance_category_Medium  Distance_category_Short  \n",
       "140405                         0                        1  \n",
       "5790                           0                        1  \n",
       "159787                         0                        1  \n",
       "134400                         1                        0  \n",
       "127149                         0                        1  "
      ]
     },
     "execution_count": 222,
     "metadata": {},
     "output_type": "execute_result"
    }
   ],
   "source": [
    "X_train.head()"
   ]
  },
  {
   "cell_type": "code",
   "execution_count": 223,
   "id": "ac83ed3e-1398-4f40-b5a5-52523e25ac12",
   "metadata": {
    "tags": []
   },
   "outputs": [],
   "source": [
    "y_train_reshaped = y_train.values.reshape(-1,1)"
   ]
  },
  {
   "cell_type": "code",
   "execution_count": 224,
   "id": "32518ffa-d64e-4a10-8854-72c68b06d9b5",
   "metadata": {
    "tags": []
   },
   "outputs": [],
   "source": [
    "y_train_reshaped= scaler.fit_transform(y_train_reshaped)"
   ]
  },
  {
   "cell_type": "code",
   "execution_count": 225,
   "id": "f4cc8b2b-4565-46d7-8877-0067395ffc48",
   "metadata": {
    "tags": []
   },
   "outputs": [],
   "source": [
    "y_train_reshaped_series = pd.Series(y_train_reshaped.flatten())"
   ]
  },
  {
   "cell_type": "code",
   "execution_count": 226,
   "id": "fcaf62e4-ff1f-4d86-a75d-0afdbf0118c1",
   "metadata": {
    "tags": []
   },
   "outputs": [],
   "source": [
    "y_train=y_train_reshaped_series"
   ]
  },
  {
   "cell_type": "code",
   "execution_count": 227,
   "id": "8c154536-fee9-481e-b317-9cc566fc48c7",
   "metadata": {
    "tags": []
   },
   "outputs": [
    {
     "data": {
      "text/plain": [
       "0    0.076860\n",
       "1    0.169003\n",
       "2   -0.650047\n",
       "3    1.919724\n",
       "4   -0.291713\n",
       "dtype: float64"
      ]
     },
     "execution_count": 227,
     "metadata": {},
     "output_type": "execute_result"
    }
   ],
   "source": [
    "y_train.head()"
   ]
  },
  {
   "cell_type": "markdown",
   "id": "e143fe34-a835-4dec-b9d8-b8cbf38aae83",
   "metadata": {},
   "source": [
    "### Step 8: Corelation Analysis"
   ]
  },
  {
   "cell_type": "code",
   "execution_count": 229,
   "id": "542486a2-9eab-43b1-ab00-bf453e0d602f",
   "metadata": {
    "tags": []
   },
   "outputs": [],
   "source": [
    "data_coor = df.drop('ID',axis=1)"
   ]
  },
  {
   "cell_type": "code",
   "execution_count": 230,
   "id": "9625b4f3-6095-4702-9d78-60ae1ca925db",
   "metadata": {
    "tags": []
   },
   "outputs": [
    {
     "data": {
      "text/plain": [
       "<Axes: >"
      ]
     },
     "execution_count": 230,
     "metadata": {},
     "output_type": "execute_result"
    },
    {
     "data": {
      "image/png": "[encoded data removed]",
      "text/plain": [
       "<Figure size 640x480 with 2 Axes>"
      ]
     },
     "metadata": {},
     "output_type": "display_data"
    }
   ],
   "source": [
    "sns.heatmap(data_coor.corr(),annot=True)"
   ]
  },
  {
   "cell_type": "markdown",
   "id": "e499e6a2-eb42-48c0-945e-317239164bcc",
   "metadata": {},
   "source": [
    "## Step 9:Building Linear model"
   ]
  },
  {
   "cell_type": "code",
   "execution_count": 232,
   "id": "fb99549e-7452-4347-97bf-ef4366c82e64",
   "metadata": {
    "tags": []
   },
   "outputs": [],
   "source": [
    "import statsmodels.api as sm"
   ]
  },
  {
   "cell_type": "code",
   "execution_count": 233,
   "id": "eec113bf-61a2-456c-9cd0-9e9cec0d396f",
   "metadata": {
    "tags": []
   },
   "outputs": [],
   "source": [
    "X_train['Distance_km'].fillna(X_train['Distance_km'].mode(),inplace=True)"
   ]
  },
  {
   "cell_type": "code",
   "execution_count": 234,
   "id": "b87afcdb-8b32-4c1c-9da7-3a8fd853caa1",
   "metadata": {
    "tags": []
   },
   "outputs": [
    {
     "data": {
      "text/plain": [
       "Distance_km                 31905\n",
       "Categorize_time_Evening         0\n",
       "Categorize_time_Morning         0\n",
       "Distance_category_Medium        0\n",
       "Distance_category_Short         0\n",
       "dtype: int64"
      ]
     },
     "execution_count": 234,
     "metadata": {},
     "output_type": "execute_result"
    }
   ],
   "source": [
    "X_train.isnull().sum()"
   ]
  },
  {
   "cell_type": "code",
   "execution_count": null,
   "id": "297aeca7-0cb3-48e5-b888-a1e416ab5c4a",
   "metadata": {},
   "outputs": [],
   "source": []
  }
 ],
 "metadata": {
  "kernelspec": {
   "display_name": "Python 3 (ipykernel)",
   "language": "python",
   "name": "python3"
  },
  "language_info": {
   "codemirror_mode": {
    "name": "ipython",
    "version": 3
   },
   "file_extension": ".py",
   "mimetype": "text/x-python",
   "name": "python",
   "nbconvert_exporter": "python",
   "pygments_lexer": "ipython3",
   "version": "3.11.5"
  }
 },
 "nbformat": 4,
 "nbformat_minor": 5
}
